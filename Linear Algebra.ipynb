{
 "cells": [
  {
   "cell_type": "markdown",
   "id": "62d3d001",
   "metadata": {},
   "source": [
    "# 1. Creating Vectors\n",
    "\n",
    "Vectors can be analyzed in a few different ways in Python.\n",
    "\n",
    "One way is to create the vector yourself, and there are a few different means by which you can do this.\n",
    "\n",
    "The `np.repeat(element, times)` command in Python creates a vector that repeats the same element a prescribed number of times, while the `np.arange(start, stop, step)` command creates a vector that follows a prescribed pattern.\n",
    "\n",
    "A vector can be manually created by using the `np.array()` command.\n",
    "\n",
    "## Exercise\n",
    "\n",
    "- Use the example creating a vector of three 3's to create a vector of four 4's using the `np.repeat()` command.\n",
    "\n",
    "- Use the example creating the vector containing the numbers 2, 4, and 6 in order, to create the vector containing 1, 3, and 5 in order using the `np.arrange()` command.\n",
    "\n",
    "- The prompts to the first two questions have been created using the `'np.array()` command. Provide the answers to the first two the same way, using the `np.array()` command."
   ]
  },
  {
   "cell_type": "code",
   "execution_count": 11,
   "id": "4205ff02",
   "metadata": {},
   "outputs": [
    {
     "name": "stdout",
     "output_type": "stream",
     "text": [
      "a=[3 3 3]\n",
      "c=[2 4]\n",
      "e=[3 3 3]\n",
      "g=[2 4 6]\n"
     ]
    }
   ],
   "source": [
    "import numpy as np\n",
    "\n",
    "# Creating three 3's and four 4's, respectively\n",
    "a = np.repeat(3, 3)\n",
    "print(f'a={a}')\n",
    "\n",
    "# b = np.repeat(4, ____)\n",
    "# print(f'b={b}')\n",
    "\n",
    "# Creating a vector with the first three even numbers and the first three odd numbers\n",
    "c = np.arange(2, 6, 2)\n",
    "print(f'c={c}')\n",
    "\n",
    "# d = np.arange(1, 5, ___)\n",
    "# print(f'd={d}')\n",
    "\n",
    "# Re-creating the previous four vectors using the 'np.array' command\n",
    "e = np.array([3, 3, 3])\n",
    "print(f'e={e}')\n",
    "\n",
    "# f = np.array([___, 4, ___, 4])\n",
    "# print(f'f={f}')\n",
    "\n",
    "g = np.array([2, 4, 6])\n",
    "print(f'g={g}')\n",
    "\n",
    "# h = np.array([___, 3, ___])\n",
    "# print(f'h={h}')"
   ]
  },
  {
   "cell_type": "markdown",
   "id": "eab26179",
   "metadata": {},
   "source": [
    "Displaying vectors can be done with the `quiver` function. Below is an example of showing $u=[2,2]^\\top$ and $v=[-6,1]^\\top$"
   ]
  },
  {
   "cell_type": "code",
   "execution_count": 8,
   "id": "704fbd7f",
   "metadata": {},
   "outputs": [
    {
     "data": {
      "image/png": "[encoded data removed]",
      "text/plain": [
       "<Figure size 640x480 with 1 Axes>"
      ]
     },
     "metadata": {},
     "output_type": "display_data"
    }
   ],
   "source": [
    "import numpy as np\n",
    "import matplotlib.pyplot as plt\n",
    "\n",
    "# Define the vectors\n",
    "u = np.array([2, 2])\n",
    "v = np.array([-6, 1])\n",
    "\n",
    "plt.quiver(0, 0, v[0],v[1], color='blue', angles='xy', scale_units='xy', scale=1)\n",
    "plt.quiver(0, 0, u[0],u[1], color='red', angles='xy', scale_units='xy', scale=1)\n",
    "\n",
    "plt.axis('scaled')\n",
    "plt.grid(True)\n",
    "plt.xlim(-10, 10)\n",
    "plt.ylim(-10, 10)\n",
    "plt.show()\n"
   ]
  },
  {
   "cell_type": "markdown",
   "id": "88112632",
   "metadata": {},
   "source": [
    "# 2. The Algebra of Vectors\n",
    "\n",
    "Vectors can be made to make new vectors much in the same way that numbers can.\n",
    "\n",
    "To add two vectors together, simply use the `+` command.\n",
    "\n",
    "Vectors can also be scaled via multiplication by a real number (or scalar), using the `*` command.\n",
    "\n",
    "Multiplication of two vectors is a trickier topic theoretically, but in Python, component-wise multiplication of two vectors is legal and accomplished using the `*` command.\n",
    "\n",
    "The vectors `x`, `y`, and `z` have been loaded for you.\n",
    "\n",
    "## Exericse\n",
    "\n",
    "- Add the vector `x` to the vector `y` and print the result.\n",
    "\n",
    "- Multiply the vector `z` by the scalar `2`.\n",
    "\n",
    "- Multiply the vectors `x` and `y` to each other, component-wise, and print the result.\n",
    "\n",
    "- Try to add the vector `x` to the vector `z`. What happens?"
   ]
  },
  {
   "cell_type": "code",
   "execution_count": 21,
   "id": "d06135ad",
   "metadata": {},
   "outputs": [
    {
     "name": "stdout",
     "output_type": "stream",
     "text": [
      "x=[1 2 3 4 5 6], y=[ 2  4  6  8 10 12], z=[1 1 2]\n"
     ]
    }
   ],
   "source": [
    "x = np.arange(1, 7, 1)\n",
    "y = np.arange(2, 14, 2)\n",
    "z = np.array([1, 1, 2])\n",
    "\n",
    "print(f'x={x}, y={y}, z={z}')\n",
    "\n",
    "# Add x to y and print\n",
    "# print(x ___ y)\n",
    "\n",
    "# Multiply z by 2 and print\n",
    "# print(2 ___ z)\n",
    "\n",
    "# Multiply x and y by each other and print\n",
    "# print(___ ___ y)\n",
    "\n",
    "# Add x to z, if possible, and print\n",
    "# print(x + ___)"
   ]
  },
  {
   "cell_type": "markdown",
   "id": "45eba35d",
   "metadata": {},
   "source": [
    "# 3. Creating Matrices in R\n",
    "\n",
    "Matrices can be created and analyzed in a few different ways in Python.\n",
    "\n",
    "One way is to create the matrix yourself. There are a few different ways you can do this.\n",
    "\n",
    "The `np.zeros((b,c))` command in Python creates a matrix that repeats `0` in a matrix with `b` rows and `c` columns. Similarly, `np.ones((b,c))` creates a matrix of `1` of the same size.\n",
    "\n",
    "A matrix can be manually created by using the `np.array()` command as well.\n",
    "\n",
    "Exercise\n",
    "\n",
    "- The command `np.ones((2,3))` creates a 2 by 3 matrix of 1's. Create a 3 by 2 matrix of 2's and print the result.\n",
    "\n",
    "- The command `np.array([[1,2],[3,2]])` creates a 2 by 2 matrix by superimposing the vectors $(1,2)$ and $(3,2)$ as columns.  Create \n",
    "$\n",
    "D = \\begin{pmatrix}\n",
    "1 & 3 \\\\\n",
    "2 & 2\n",
    "\\end{pmatrix}\n",
    "$.\n",
    "\n",
    "- Add `A` and `B` using the `+` command."
   ]
  },
  {
   "cell_type": "code",
   "execution_count": 31,
   "id": "9be0b0c6",
   "metadata": {},
   "outputs": [
    {
     "name": "stdout",
     "output_type": "stream",
     "text": [
      "[[1. 1. 1.]\n",
      " [1. 1. 1.]]\n",
      "[[1 2]\n",
      " [3 2]]\n"
     ]
    }
   ],
   "source": [
    "# Create two matrices of all 1's and all 2's that are 2 by 3 and 3 by 2, respectively\n",
    "A = np.ones((2,3))\n",
    "print(A)\n",
    "\n",
    "# B = np.ones(___, ___)\n",
    "# print(B)\n",
    "\n",
    "# Create a matrix B and change the byrow designation.\n",
    "C = np.array([[1,2],[3,2]])\n",
    "print(C)\n",
    "\n",
    "# D = np.array([[__,__],[__, __]])\n",
    "# print(D)\n",
    "\n",
    "# Add C and C\n",
    "# C + D"
   ]
  },
  {
   "cell_type": "markdown",
   "id": "0059e96a",
   "metadata": {},
   "source": [
    "# 4. Matrix-Vector Compatibility\n",
    "\n",
    "Consider the matrix `A` created by the Python code:\n",
    "\n",
    "`A = np.array([[1, 2, 3],[-1, 0, 3])`\n",
    "\n",
    "Which of the following vectors $b$ can be multiplied by $A$ to create $Ab$? \n",
    "\n",
    "a. `b = np.array([1, 1, -1])`\n",
    "\n",
    "b. `b = np.array([-2, 2])`\n",
    "\n",
    "c. `b = np.array([2, -1, 3, 4, 7])`\n",
    "\n",
    "d. `b = np.array([-1, 2, 1, 3])`\n"
   ]
  },
  {
   "cell_type": "markdown",
   "id": "63dac2f8",
   "metadata": {},
   "source": [
    "# 5. Matrix Multiplication as a Transformation\n",
    "\n",
    "Matrices can be viewed as a way to transform collections of vectors into other vectors.\n",
    "\n",
    "These transformations can take many forms, but the simplest ones in two dimensions are stretches or shrinkages (in either coordinate), reflections (e.g. about the x-axis, y-axis, origin, the line $y = x$), and rotations (clockwise, counter-clockwise).\n",
    "\n",
    "Multiplication of a vector by a matrix is accomplished using the `@` command.\n",
    "\n",
    "## Exercise\n",
    "\n",
    "- Use matrix multiplication in Python to show that multiplication by the matrix $A=\n",
    "\\begin{bmatrix}\n",
    "4 & 0 \\\\\n",
    "0 & 1\n",
    "\\end{bmatrix}\n",
    "$ stretches the $x$ (first) component of the vector $b=[1, 1]^\\top$ by a factor of four.\n",
    "\n",
    "- Show that multiplication by the matrix $B=\n",
    "\\begin{bmatrix}\n",
    "1 & 0 \\\\\n",
    "0 & 2/3\n",
    "\\end{bmatrix}\n",
    "$ shrinks the $y$ (second) component of the vector $b=[1, 1]^\\top$ by 33 percent."
   ]
  },
  {
   "cell_type": "code",
   "execution_count": 36,
   "id": "53e03486",
   "metadata": {},
   "outputs": [],
   "source": [
    "A = np.array([[4,0],[0,1]])\n",
    "B = np.array([[1,0],[0,2/3]])\n",
    "b = np.array([1,1])\n",
    "\n",
    "# Multiply A by b\n",
    "# print(A ___ b)\n",
    "\n",
    "# Multiply B by b\n",
    "# print(___ ___ b)"
   ]
  },
  {
   "cell_type": "markdown",
   "id": "566818d1",
   "metadata": {},
   "source": [
    "# 6. Reflections\n",
    "\n",
    "In the last exercise, you looked at stretching or shrinking components of a vector.\n",
    "\n",
    "In this one, you'll apply a reflection matrix to the vector $b=[2, 1]^\\top$.\n",
    "\n",
    "## Exercise\n",
    "\n",
    "- `A`, `B`, `C` and `b` are created for you. Use matrix multiplication in Python to show that multiplication by the matrix $A=\n",
    "\\begin{bmatrix}\n",
    "-1 & 0 \\\\\n",
    "0 & 1\n",
    "\\end{bmatrix}\n",
    "$\n",
    "reflects the vector $b=[2, 1]^\\top$ about the $y$ axis.\n",
    "\n",
    "- Show that multiplication by the matrix $B=\n",
    "\\begin{bmatrix}\n",
    "1 & 0 \\\\\n",
    "0 & -1\n",
    "\\end{bmatrix}\n",
    "$ reflects $b$ about the $x$ axis.\n",
    "\n",
    "- What does the matrix $C=\n",
    "\\begin{bmatrix}\n",
    "-4 & 0 \\\\\n",
    "0 & -2\n",
    "\\end{bmatrix}\n",
    "$ do to $b$? "
   ]
  },
  {
   "cell_type": "code",
   "execution_count": null,
   "id": "57e555a8",
   "metadata": {},
   "outputs": [],
   "source": [
    "A = np.array([[-1,0],[0,1]])\n",
    "B = np.array([[1,0],[0,-1]])\n",
    "C = np.array([[-4,0],[0,-2]])\n",
    "b = np.array([2,1])\n",
    "\n",
    "# Multiply A by b\n",
    "# A ___ ___\n",
    "\n",
    "# Multiply B by b \n",
    "# ___ ___ b\n",
    "\n",
    "# Multiply C by b \n",
    "# C___b"
   ]
  },
  {
   "cell_type": "markdown",
   "id": "23684e82",
   "metadata": {},
   "source": [
    "# 7. Matrix Multiplication Compatibility\n",
    "\n",
    "The two matrices generated by the Python code below are (small) examples of what are used in neural network models to weigh datasets for prediction:\n",
    "\n",
    "`A = np.array([[1, 3, 2], [-1, 0, 1]])`\n",
    "\n",
    "`B = np.array([[-1, 1], [2, -3]])`\n",
    "\n",
    "Often times these collections of weights are applied iteratively using successive applications of matrix multiplication.\n",
    "\n",
    "Are $A$ and $B$  compatible in any way in terms of matrix multiplication? Use `A @ B` and `B @ A` in the console to check. What are the dimensions of the resulting matrix?\n",
    "\n",
    "## Exercise\n",
    "\n",
    "a. No, these matrices are not compatible.\n",
    "\n",
    "b. Yes, the multiplication $BA$ results in a 2 by 3 matrix.\n",
    "\n",
    "c. Yes, the multiplication $AB$ results in a 2 by 3 matrix.\n",
    "\n",
    "d. Yes, the multiplication $BA$ results in a 3 by 2 matrix."
   ]
  },
  {
   "cell_type": "markdown",
   "id": "bf1800b3",
   "metadata": {},
   "source": [
    "# 8. Matrix Multiplication - Order Matters\n",
    "\n",
    "In the last lesson, we studied how matrices act on vectors (stretches, shrinkages, reflections, rotations, etc.) and transform vectors into new vectors.\n",
    "\n",
    "The successive application of these matrices can act as complex transformations, but because matrix multiplication is not commutative, the order of these transformations matter.\n",
    "\n",
    "The matrix $A=\n",
    "\\begin{bmatrix}\n",
    "0.7071068 & -0.7071068 \\\\\n",
    "0.7071068 & 0.7071068\n",
    "\\end{bmatrix}\n",
    "$ represents rotation of a 2-dimensional vector by 45 degrees counterclockwise.\n",
    "\n",
    "\n",
    "The matrix $B=\n",
    "\\begin{bmatrix}\n",
    "1 & 0 \\\\\n",
    "0 & -1\n",
    "\\end{bmatrix}\n",
    "$ represents a reflection about the $x$ (first) axis.\n",
    "\n",
    "## Exercise \n",
    "- `A`, `B` and `b` are loaded for you. Compute the products $AB$ and $BA$ and show that these two actions are not commutative.\n",
    "- Apply both of these products by the vector $b=[1, 1]^\\top$ to further confirm."
   ]
  },
  {
   "cell_type": "code",
   "execution_count": 3,
   "id": "b5f68ca4",
   "metadata": {},
   "outputs": [
    {
     "data": {
      "text/plain": [
       "array([-2,  1])"
      ]
     },
     "execution_count": 3,
     "metadata": {},
     "output_type": "execute_result"
    }
   ],
   "source": [
    "A = np.array([[-1,0],[0,1]])\n",
    "B = np.array([[1,0],[0,-1]])\n",
    "C = np.array([[-4,0],[0,-2]])\n",
    "b = np.array([2,1])\n",
    "\n",
    "# Multiply A by B\n",
    "# A ___ ___\n",
    "\n",
    "# Multiply A on the right of B\n",
    "# ___ ___ A\n",
    "\n",
    "# Multiply the product of A and B by the vector b\n",
    "# A ___ B ___ ___\n",
    "\n",
    "# Multiply A on the right of B, and then by the vector b\n",
    "# B___ ___ ___ b"
   ]
  },
  {
   "cell_type": "markdown",
   "id": "819ed4ef",
   "metadata": {},
   "source": [
    "# 9. The Meaning of $Ax = b$\n",
    "\n",
    "A great deal of applied mathematics and statistics, as well as data science, ends in a matrix-vector equation of the form:\n",
    "$$\n",
    "Ax=b.\n",
    "$$\n",
    "\n",
    "Which of the following is the most correct way to describe what solving this equation for $x$ is trying to accomplish?\n",
    "\n",
    "\n",
    "a. Finding the vector $x$ that, upon some mysterious transformation, makes $b$. \n",
    "\n",
    "b. Finding the vector $x$ that is a linear combination of the elements of $b$.\n",
    "\n",
    "c. To produce $b$ using a linear combination of the columns of $A$.\n",
    "\n",
    "d. To produce $b$ using a linear combination of the rows of $A$. "
   ]
  },
  {
   "cell_type": "markdown",
   "id": "52b8e036",
   "metadata": {},
   "source": [
    "# 10. Solving a Linear System\n",
    "In two dimensions, the solution structure of a system of two equations in two unknowns can be understood in a straightforward way via pictures, with the two equations representing lines (this is why it's called linear algebra) in the \n",
    "$x$-$y$ plane. A solution is any point $(x,y)$ where the two lines intersect.\n"
   ]
  },
  {
   "cell_type": "code",
   "execution_count": 12,
   "id": "50dcf825",
   "metadata": {},
   "outputs": [
    {
     "data": {
      "text/latex": [
       "$\\displaystyle \\left[\\begin{matrix}1 & 0 & 1 & 3\\\\2 & 3 & 4 & 7\\\\-1 & -3 & -3 & -4\\end{matrix}\\right]$"
      ],
      "text/plain": [
       "Matrix([\n",
       "[ 1,  0,  1,  3],\n",
       "[ 2,  3,  4,  7],\n",
       "[-1, -3, -3, -4]])"
      ]
     },
     "execution_count": 12,
     "metadata": {},
     "output_type": "execute_result"
    }
   ],
   "source": [
    "# import sympy  \n",
    "from sympy import Matrix\n",
    "  \n",
    "M = Matrix([[1, 0, 1, 3], \n",
    "            [2, 3, 4, 7], \n",
    "            [-1, -3, -3, -4]]) \n",
    "M"
   ]
  },
  {
   "cell_type": "code",
   "execution_count": 10,
   "id": "267a3742",
   "metadata": {},
   "outputs": [
    {
     "data": {
      "text/latex": [
       "$\\displaystyle \\left[\\begin{matrix}1 & 0 & 1 & 3\\\\0 & 1 & \\frac{2}{3} & \\frac{1}{3}\\\\0 & 0 & 0 & 0\\end{matrix}\\right]$"
      ],
      "text/plain": [
       "Matrix([\n",
       "[1, 0,   1,   3],\n",
       "[0, 1, 2/3, 1/3],\n",
       "[0, 0,   0,   0]])"
      ]
     },
     "execution_count": 10,
     "metadata": {},
     "output_type": "execute_result"
    }
   ],
   "source": [
    "# Use sympy.rref() method  \n",
    "M_rref = M.rref()\n",
    "      \n",
    "M_rref[0]"
   ]
  },
  {
   "cell_type": "code",
   "execution_count": 18,
   "id": "a857b883",
   "metadata": {},
   "outputs": [
    {
     "data": {
      "text/latex": [
       "$\\displaystyle \\left[\\begin{matrix}0\\\\0\\\\0\\\\0\\end{matrix}\\right]$"
      ],
      "text/plain": [
       "Matrix([\n",
       "[0],\n",
       "[0],\n",
       "[0],\n",
       "[0]])"
      ]
     },
     "execution_count": 18,
     "metadata": {},
     "output_type": "execute_result"
    }
   ],
   "source": [
    "P = Matrix([[1,0,-1,-1/2],\n",
    "           [-1/3,1,0,0],\n",
    "           [-1/3,-1/2,1,-1/2],\n",
    "           [-1/3,-1/2,0,1]])\n",
    "\n",
    "b = Matrix([0, 0, 0, 0])\n",
    "\n",
    "P.solve(b)"
   ]
  },
  {
   "cell_type": "code",
   "execution_count": 1,
   "id": "6661810e",
   "metadata": {},
   "outputs": [
    {
     "data": {
      "text/latex": [
       "$\\displaystyle \\left[\\begin{matrix}1 & 0 & 0 & 0.277223183614433\\\\0 & 1 & 0 & 0.391920861637007\\\\0 & 0 & 1 & 0.233230880491774\\end{matrix}\\right]$"
      ],
      "text/plain": [
       "Matrix([\n",
       "[1, 0, 0, 0.277223183614433],\n",
       "[0, 1, 0, 0.391920861637007],\n",
       "[0, 0, 1, 0.233230880491774]])"
      ]
     },
     "execution_count": 1,
     "metadata": {},
     "output_type": "execute_result"
    }
   ],
   "source": [
    "# import sympy  \n",
    "from sympy import Matrix\n",
    "  \n",
    "M = Matrix([[36,51,13,33], \n",
    "            [52,34,74,45], \n",
    "            [0,7,1.1,3]]) \n",
    "M_rref = M.rref()\n",
    "      \n",
    "M_rref[0]"
   ]
  }
 ],
 "metadata": {
  "kernelspec": {
   "display_name": "Python 3 (ipykernel)",
   "language": "python",
   "name": "python3"
  },
  "language_info": {
   "codemirror_mode": {
    "name": "ipython",
    "version": 3
   },
   "file_extension": ".py",
   "mimetype": "text/x-python",
   "name": "python",
   "nbconvert_exporter": "python",
   "pygments_lexer": "ipython3",
   "version": "3.9.13"
  }
 },
 "nbformat": 4,
 "nbformat_minor": 5
}
