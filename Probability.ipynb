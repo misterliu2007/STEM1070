{
 "cells": [
  {
   "cell_type": "markdown",
   "id": "991f1514",
   "metadata": {},
   "source": [
    "# Flipping Coins\n",
    "\n",
    "This exercise requires the `bernoulli` object from the `scipy.stats` library to simulate the two possible outcomes from a coin flip, `1` (\"heads\") or `0` (\"tails\"), and the `numpy` library (loaded as `np`) to set the random generator seed.\n",
    "\n",
    "You'll use the `bernoulli.rvs()` function to simulate coin flips using the `size` argument.\n",
    "\n",
    "You will set the random seed so you can reproduce the results for the random experiment in each exercise.\n",
    "\n",
    "From each experiment, you will get the values of each coin flip. You can add the coin flips to get the number of heads after flipping 10 coins using the `sum()` function.\n",
    "\n",
    "## Exercise \n",
    "\n",
    "1. Import `bernoulli` from `scipy.stats`, set the seed with `np.random.seed()`. Simulate 1 flip, with a 35% chance of heads.\n",
    "\n",
    "2. Use `bernoulli.rvs()` and `sum()` to get the number of heads after 10 coin flips with 35% chance of getting heads.\n",
    "\n",
    "3. Using `bernoulli.rvs()` and `sum()`, try to get the number of heads after 5 flips with a 50% chance of getting heads."
   ]
  },
  {
   "cell_type": "code",
   "execution_count": null,
   "id": "1b4a106e",
   "metadata": {},
   "outputs": [],
   "source": [
    "# Import the bernoulli object from scipy.stats\n",
    "from ____ import ____\n",
    "\n",
    "# Import numpy as np\n",
    "import ____ as ____\n",
    "\n",
    "# Set the random seed to reproduce the results\n",
    "np.____.____(42)\n",
    "\n",
    "# Simulate one coin flip with 35% chance of getting heads\n",
    "coin_flip = ____.rvs(p=____, size=____)\n",
    "print(coin_flip)\n",
    "\n",
    "# Simulate ten coin flips and get the number of heads\n",
    "ten_coin_flips = ____.rvs(p=____, size=____)\n",
    "coin_flips_sum = sum(ten_coin_flips)\n",
    "print(coin_flips_sum)\n",
    "\n",
    "# Simulate five coin flips and get the number of heads\n",
    "five_coin_flips = ____.rvs(p=____, size=____)\n",
    "coin_flips_sum = sum(five_coin_flips)\n",
    "print(coin_flips_sum)"
   ]
  },
  {
   "cell_type": "code",
   "execution_count": 7,
   "id": "3248e43e",
   "metadata": {},
   "outputs": [
    {
     "name": "stdout",
     "output_type": "stream",
     "text": [
      "[0]\n",
      "4\n",
      "2\n"
     ]
    }
   ],
   "source": [
    "# Import the bernoulli object from scipy.stats\n",
    "from scipy.stats import bernoulli\n",
    "\n",
    "# Import numpy as np\n",
    "import numpy as np\n",
    "\n",
    "# Set the random seed to reproduce the results\n",
    "np.random.seed(42)\n",
    "\n",
    "# Simulate one coin flip with 35% chance of getting heads\n",
    "coin_flip = bernoulli.rvs(p=.35, size=1)\n",
    "print(coin_flip)\n",
    "\n",
    "# Simulate ten coin flips and get the number of heads\n",
    "ten_coin_flips = bernoulli.rvs(p=.35, size=10)\n",
    "coin_flips_sum = sum(ten_coin_flips)\n",
    "print(coin_flips_sum)\n",
    "\n",
    "# Simulate five coin flips and get the number of heads\n",
    "five_coin_flips = bernoulli.rvs(p=.5, size=5)\n",
    "coin_flips_sum = sum(five_coin_flips)\n",
    "print(coin_flips_sum)"
   ]
  },
  {
   "cell_type": "markdown",
   "id": "1f75e090",
   "metadata": {},
   "source": [
    "# Using binom to flip even more coins\n",
    "\n",
    "Previously, you simulated 10 coin flips with a 35% chance of getting heads using `bernoulli.rvs()`.\n",
    "\n",
    "This exercise loads the `binom` object from `scipy.stats` so you can use `binom.rvs()` to simulate 20 trials of 10 coin flips with a 35% chance of getting heads on each coin flip.\n",
    "\n",
    "## Exercise \n",
    "\n",
    "- Use the `binom.rvs()` function to simulate 20 trials of 10 coin flips with a 35% chance of getting heads."
   ]
  },
  {
   "cell_type": "code",
   "execution_count": null,
   "id": "3b53b6b6",
   "metadata": {},
   "outputs": [],
   "source": [
    "# Import the binom object from scipy.stats\n",
    "from ____ import ____\n",
    "\n",
    "# Set the random seed to reproduce the results\n",
    "np.random.seed(42)\n",
    "\n",
    "# Simulate 20 trials of 10 coin flips \n",
    "draws = ____.rvs(n=____, p=____, size=____)\n",
    "print(draws)"
   ]
  },
  {
   "cell_type": "code",
   "execution_count": 8,
   "id": "b1f3ebf0",
   "metadata": {},
   "outputs": [
    {
     "name": "stdout",
     "output_type": "stream",
     "text": [
      "[3 6 4 4 2 2 1 5 4 4 1 6 5 2 2 2 3 4 3 3]\n"
     ]
    }
   ],
   "source": [
    "# Import the binom object from scipy.stats\n",
    "from scipy.stats import binom\n",
    "\n",
    "# Set the random seed to reproduce the results\n",
    "np.random.seed(42)\n",
    "\n",
    "# Simulate 20 trials of 10 coin flips \n",
    "draws = binom.rvs(n=10, p=.35, size=20)\n",
    "print(draws)"
   ]
  },
  {
   "cell_type": "markdown",
   "id": "1fe4b4d7",
   "metadata": {},
   "source": [
    "# Predicting the probability of defects\n",
    "\n",
    "Any situation with exactly two possible outcomes can be modeled with binomial random variables. For example, you could model if someone likes or dislikes a product, or if they voted or not.\n",
    "\n",
    "To calculate probabilities related to binomial random variables, we import the `binom` object from `scipy.stats`.\n",
    "\n",
    "Below are some useful functions:\n",
    "\n",
    "- `binom.pmf()` calculates the probability of having exactly `k` heads out of `n` coin flips.\n",
    "- `binom.cdf()` calculates the probability of having `k` heads or less out of `n` coin flips.\n",
    "- `binom.sf()` calculates the probability of having more than `k` heads out of `n` coin flips.\n",
    "\n",
    "## Question\n",
    "\n",
    "1. What is the probability of getting more than 20 heads from a fair coin after 30 coin flips?\n",
    "\n",
    "a. `binom.pmf(k=20, n=30, p=0.5)`\n",
    "\n",
    "b. `1 - binom.pmf(k=20, n=30, p=0.5)`\n",
    "\n",
    "c. `binom.sf(k=20, n=30, p=0.5)`\n",
    "\n",
    "d. `binom.cdf(k=20, n=30, p=0.5)`\n",
    "\n",
    "2. Let's model whether or not a component from a supplier comes with a defect. From the thousands of components that we got from a supplier, we are going to take a sample of 50, selected randomly. The agreed and accepted defect rate is 2%. First, calculate the probability of getting exactly 1 defective component."
   ]
  },
  {
   "cell_type": "code",
   "execution_count": null,
   "id": "48582158",
   "metadata": {},
   "outputs": [],
   "source": [
    "# Probability of getting exactly 1 defective component\n",
    "prob_one_defect = binom.____(k=____, n=____, p=____)\n",
    "print(prob_one_defect)"
   ]
  },
  {
   "cell_type": "markdown",
   "id": "7cf39310",
   "metadata": {},
   "source": [
    "3. Next, calculate the probability of not getting any defective components."
   ]
  },
  {
   "cell_type": "code",
   "execution_count": null,
   "id": "065653c7",
   "metadata": {},
   "outputs": [],
   "source": [
    "# Probability of not getting any defective components\n",
    "prob_no_defects = binom.____(k=____, n=____, p=____)\n",
    "print(prob_no_defects)"
   ]
  },
  {
   "cell_type": "markdown",
   "id": "b54fefcd",
   "metadata": {},
   "source": [
    "4. Now calculate the probability of getting 2 or fewer defective components out of 50."
   ]
  },
  {
   "cell_type": "code",
   "execution_count": null,
   "id": "b5304686",
   "metadata": {},
   "outputs": [],
   "source": [
    "# Probability of getting 2 or less defective components\n",
    "prob_no_defects = binom.____(k=____, n=____, p=____)\n",
    "print(prob_two_or_less_defects)"
   ]
  },
  {
   "cell_type": "markdown",
   "id": "9653bb52",
   "metadata": {},
   "source": [
    "# Predicting employment status\n",
    "\n",
    "Consider a survey about employment that contains the question \"Are you employed?\" It is known that 65% of respondents will answer \"yes.\" Eight survey responses have been collected.\n",
    "\n",
    "We load the `binom` object from `scipy.stats` with the following code: \n",
    "\n",
    "`from scipy.stats import binom`\n",
    "\n",
    "Answer the following questions using `pmf()`, `cdf()`, and `sf()`.\n",
    "\n",
    "1. Calculate the probability of getting exactly 5 yes responses."
   ]
  },
  {
   "cell_type": "code",
   "execution_count": null,
   "id": "93cc8b08",
   "metadata": {},
   "outputs": [],
   "source": [
    "# Calculate the probability of getting exactly 5 yes responses\n",
    "prob_five_yes = binom.____(k=____, n=____, p=____)\n",
    "print(prob_five_yes) "
   ]
  },
  {
   "cell_type": "markdown",
   "id": "82354518",
   "metadata": {},
   "source": [
    "2. Calculate the probability of getting 3 or fewer no responses."
   ]
  },
  {
   "cell_type": "code",
   "execution_count": null,
   "id": "cef9cd9f",
   "metadata": {},
   "outputs": [],
   "source": [
    "# Calculate the probability of getting 3 or less no responses\n",
    "prob_three_or_less_no = 1-binom.____(k=____, n=8, p=____)\n",
    "print(prob_three_or_less_no)"
   ]
  },
  {
   "cell_type": "markdown",
   "id": "13a0c86b",
   "metadata": {},
   "source": [
    "3. Calculate the probability of getting more than 3 yes responses using `binom.sf()`."
   ]
  },
  {
   "cell_type": "code",
   "execution_count": null,
   "id": "187b14bd",
   "metadata": {},
   "outputs": [],
   "source": [
    "# Calculate the probability of getting more than 3 yes responses\n",
    "prob_more_than_three_yes = binom.____(k=____, n=8, p=0.65)\n",
    "print(prob_more_than_three_yes)"
   ]
  },
  {
   "cell_type": "markdown",
   "id": "6850e47f",
   "metadata": {},
   "source": [
    "# Predicting burglary conviction rate\n",
    "\n",
    "There are many situations that can be modeled with only two outcomes: success or failure. This exercise presents a situation that can be modeled with a binomial distribution and gives you the opportunity to calculate probabilities using `binom.pmf()`, `binom.cdf()`, and `binom.sf()`.\n",
    "\n",
    "Imagine that in your town there are many crimes, including burglaries, but only 20% of them get solved. Last week, there were 9 burglaries. Answer the following questions.\n",
    "\n",
    "1. What is the probability of solving exactly 4 of the 9 total burglaries?"
   ]
  },
  {
   "cell_type": "code",
   "execution_count": null,
   "id": "f3570616",
   "metadata": {},
   "outputs": [],
   "source": [
    "# Import the binom object from scipy.stats\n",
    "from scipy.stats import binom\n",
    "\n",
    "# What is the probability of solving 4 burglaries?\n",
    "four_solved = binom.____(k=____, n=____, p=____)\n",
    "print(four_solved)"
   ]
  },
  {
   "cell_type": "markdown",
   "id": "1d10a174",
   "metadata": {},
   "source": [
    "2. What is the probability of solving more than 3 of the 9 burglaries?"
   ]
  },
  {
   "cell_type": "code",
   "execution_count": null,
   "id": "4bc2456b",
   "metadata": {},
   "outputs": [],
   "source": [
    "# What is the probability of solving more than 3 burglaries?\n",
    "more_than_three_solved = binom.____(k=____, n=____, p=____)\n",
    "print(more_than_three_solved)"
   ]
  },
  {
   "cell_type": "markdown",
   "id": "a3be6894",
   "metadata": {},
   "source": [
    "3. What is the probability of solving exactly 2 or 3 of the 9 burglaries?"
   ]
  },
  {
   "cell_type": "code",
   "execution_count": null,
   "id": "3ecc1ac8",
   "metadata": {},
   "outputs": [],
   "source": [
    "# What is the probability of solving 2 or 3 burglaries?\n",
    "two_or_three_solved = binom.____(k=2, n=____, p=____) + binom.____(k=____, n=____, p=____)\n",
    "print(two_or_three_solved)"
   ]
  },
  {
   "cell_type": "markdown",
   "id": "cff8b1d7",
   "metadata": {},
   "source": [
    "4. What is the probability of solving 1 or fewer or more than 7 of the 9 burglaries?"
   ]
  },
  {
   "cell_type": "code",
   "execution_count": null,
   "id": "c0a64c01",
   "metadata": {},
   "outputs": [],
   "source": [
    "# What is the probability of solving 1 or fewer or more than 7 burglaries?\n",
    "tail_probabilities = ____ + ____\n",
    "print(tail_probabilities)"
   ]
  },
  {
   "cell_type": "markdown",
   "id": "6ad890a4",
   "metadata": {},
   "source": [
    "# Calculating the expected value and variance\n",
    "How do you calculate the expected value and the variance from a binomial distribution with parameters `n=10` and `p=0.25`?\n",
    "\n",
    "a. `binom.stats(n=10, p=0.25)`\n",
    "\n",
    "b. `binom.pmf(k=5, n=10,p=0.25)`\n",
    "\n",
    "c. `describe(binom.rvs(n=10, p=0.25, size=100)).mean`\n",
    "\n",
    "d. `describe(binom.rvs(n=10, p=0.25, size=100)).variance`\n"
   ]
  },
  {
   "cell_type": "markdown",
   "id": "6d2d68a3",
   "metadata": {},
   "source": [
    "# Calculating the sample mean\n",
    "\n",
    "Simulation involves generating samples and then measuring. In this exercise, we'll generate some samples and calculate the sample mean with the `describe()` method. See what you observe about the sample mean as the number of samples increases.\n",
    "\n",
    "## Exercise \n",
    "\n",
    "1. Generate a sample of 100 fair coin flips using `.rvs()` and calculate the sample mean using `describe()`."
   ]
  },
  {
   "cell_type": "code",
   "execution_count": null,
   "id": "c4ab0ff5",
   "metadata": {},
   "outputs": [],
   "source": [
    "from scipy.stats import describe, binom\n",
    "\n",
    "# Sample mean from a generated sample of 100 fair coin flips\n",
    "sample_of_100_flips = binom.____(n=____, p=____, size=100)\n",
    "sample_mean_100_flips = ____(sample_of_100_flips).____\n",
    "print(sample_mean_100_flips)"
   ]
  },
  {
   "cell_type": "markdown",
   "id": "a49d4158",
   "metadata": {},
   "source": [
    "2. Generate a sample of 1,000 fair coin flips and calculate the sample mean."
   ]
  },
  {
   "cell_type": "code",
   "execution_count": null,
   "id": "9bf500fa",
   "metadata": {},
   "outputs": [],
   "source": [
    "# Sample mean from a generated sample of 1,000 fair coin flips\n",
    "sample_mean_1000_flips = ____(____.____(n=____, p=____, size=1000)).____\n",
    "print(sample_mean_1000_flips)"
   ]
  },
  {
   "cell_type": "markdown",
   "id": "4b581e9f",
   "metadata": {},
   "source": [
    "3. Generate a sample of 2,000 fair coin flips and calculate the sample mean."
   ]
  },
  {
   "cell_type": "code",
   "execution_count": null,
   "id": "2abeb2d9",
   "metadata": {},
   "outputs": [],
   "source": [
    "# Sample mean from a generated sample of 2,000 fair coin flips\n",
    "sample_mean_2000_flips = ____(binom.rvs(n=____, p=____, size=____)).____\n",
    "print(sample_mean_2000_flips)"
   ]
  }
 ],
 "metadata": {
  "kernelspec": {
   "display_name": "Python 3 (ipykernel)",
   "language": "python",
   "name": "python3"
  },
  "language_info": {
   "codemirror_mode": {
    "name": "ipython",
    "version": 3
   },
   "file_extension": ".py",
   "mimetype": "text/x-python",
   "name": "python",
   "nbconvert_exporter": "python",
   "pygments_lexer": "ipython3",
   "version": "3.9.13"
  }
 },
 "nbformat": 4,
 "nbformat_minor": 5
}
