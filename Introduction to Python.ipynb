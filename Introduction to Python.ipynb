{
 "cells": [
  {
   "cell_type": "markdown",
   "id": "b904825a",
   "metadata": {},
   "source": [
    "# Your first Python code\n",
    "\n",
    "It's time to run your first Python code!\n",
    "\n",
    "## Exercise\n",
    "\n",
    "- Press Ctrl-Enter to see the output of `print(5 / 8)`."
   ]
  },
  {
   "cell_type": "code",
   "execution_count": 1,
   "id": "285963d6",
   "metadata": {},
   "outputs": [
    {
     "name": "stdout",
     "output_type": "stream",
     "text": [
      "0.625\n"
     ]
    }
   ],
   "source": [
    "# Hit run code to see the output!\n",
    "print(5 / 8)"
   ]
  },
  {
   "cell_type": "markdown",
   "id": "f653998c",
   "metadata": {},
   "source": [
    "# Any comments?\n",
    "\n",
    "You can also add comments to your Python scripts. Comments are important to make sure that you and others can understand what your code is about and do not run as Python code.\n",
    "\n",
    "They start with `#` tag. See the comment in the editor, `# Division`; now it's your turn to add a comment!\n",
    "\n",
    "## Exercise\n",
    "\n",
    "- Replace `____` with the comment\n",
    "\n",
    "```\n",
    "# Addition\n",
    "```\n"
   ]
  },
  {
   "cell_type": "code",
   "execution_count": null,
   "id": "b97c6175",
   "metadata": {},
   "outputs": [],
   "source": [
    "# Division\n",
    "print(5 / 8)\n",
    "\n",
    "____\n",
    "print(7 + 10)"
   ]
  },
  {
   "cell_type": "markdown",
   "id": "d7c59257",
   "metadata": {},
   "source": [
    "# Python as a calculator\n",
    "\n",
    "Python is perfectly suited to do basic calculations. It can do addition, subtraction, multiplication and division.\n",
    "\n",
    "The code in the script gives some examples.\n",
    "\n",
    "Now it's your turn to practice!\n",
    "\n",
    "## Exercise \n",
    "- Print the sum of `4` and `5`.\n",
    "- Print the result of subtracting `5` from `5`.\n",
    "- Print the result of multiplying `3` by `5`.\n",
    "- Print the result of dividing `10` by `2`."
   ]
  },
  {
   "cell_type": "code",
   "execution_count": null,
   "id": "1dc2909f",
   "metadata": {},
   "outputs": [],
   "source": [
    "# Addition\n",
    "\n",
    "\n",
    "# Subtraction\n",
    "\n",
    "\n",
    "# Multiplication\n",
    "\n",
    "\n",
    "# Division\n"
   ]
  },
  {
   "cell_type": "markdown",
   "id": "8b600516",
   "metadata": {},
   "source": [
    "# Variable Assignment\n",
    "\n",
    "In Python, a variable allows you to refer to a value with a name. To create a variable `x` with a value of `5`, you use `=`, like this example:\n",
    "\n",
    "```\n",
    "x = 5\n",
    "```\n",
    "\n",
    "You can now use the name of this variable, `x`, instead of the actual value, `5`.\n",
    "\n",
    "Remember, `=` in Python means assignment, it doesn't test equality! Try it in the exercise by replacing `____` with your code.\n",
    "\n",
    "## Exercise\n",
    "- Create a variable `savings` with the value of `100`.\n",
    "- Check out this variable by typing `print(savings)` in the script."
   ]
  },
  {
   "cell_type": "code",
   "execution_count": null,
   "id": "f8ad4668",
   "metadata": {},
   "outputs": [],
   "source": [
    "# Create a variable savings\n",
    "____\n",
    "\n",
    "# Print out savings\n",
    "____"
   ]
  },
  {
   "cell_type": "markdown",
   "id": "333d4e41",
   "metadata": {},
   "source": [
    "# Calculations with variables\n",
    "You've now created a savings variable, so let's start saving!\n",
    "\n",
    "Instead of calculating with the actual values, you can use variables instead.\n",
    "\n",
    "How much money would you have saved four months from now, if you saved $10 each month?\n",
    "\n",
    "## Exercise \n",
    "- Create a variable `monthly_savings`, equal to `10` and `num_months`, equal to `4`.\n",
    "- Multiply `monthly_savings` by `num_months` and assign it to `new_savings`.\n",
    "- Print the value of `new_savings`."
   ]
  },
  {
   "cell_type": "code",
   "execution_count": null,
   "id": "63aaa0a8",
   "metadata": {},
   "outputs": [],
   "source": [
    "# Create the variables monthly_savings and num_months\n",
    "\n",
    "\n",
    "\n",
    "# Multiply monthly_savings and num_months\n",
    "new_savings = ____\n",
    "\n",
    "# Print new_savings\n"
   ]
  },
  {
   "cell_type": "markdown",
   "id": "df6d1a49",
   "metadata": {},
   "source": [
    "# Other variable types\n",
    "\n",
    "In the previous exercise, you worked with the integer Python data type:\n",
    "\n",
    "- `int`, or integer: a number without a fractional part. `savings`, with the value `100`, is an example of an integer.\n",
    "\n",
    "Next to numerical data types, there are three other very common data types:\n",
    "\n",
    "- `float`, or floating point: a number that has both an integer and fractional part, separated by a point. `1.1`, is an example of a float.\n",
    "\n",
    "- `str`, or string: a type to represent text. You can use single or double quotes to build a string.\n",
    "\n",
    "- `bool`, or boolean: a type to represent logical values. It can only be `True` or `False` (the capitalization is important!).\n",
    "\n",
    "## Exercise\n",
    "- Create a new float, `half`, with the value `0.5`.\n",
    "- Create a new string, `intro`, with the value `\"Hello! How are you?\"`.\n",
    "- Create a new boolean, `is_good`, with the value `True`."
   ]
  },
  {
   "cell_type": "code",
   "execution_count": 2,
   "id": "7d6f97e3",
   "metadata": {},
   "outputs": [],
   "source": [
    "# Create a variable half\n",
    "\n",
    "\n",
    "# Create a variable intro\n",
    "\n",
    "\n",
    "# Create a variable is_good\n"
   ]
  },
  {
   "cell_type": "markdown",
   "id": "8a69a37f",
   "metadata": {},
   "source": [
    "\n",
    "# Operations with other types\n",
    "\n",
    "Variables come in different types in Python. You can see the type of a variable by using `type()`. For example, to see type of `a`, execute: `type(a)`.\n",
    "\n",
    "Different types behave differently in Python. When you sum two strings, for example, you'll get different behavior than when you sum two integers or two booleans.\n",
    "\n",
    "\n",
    "## Exercise \n",
    "- Add `savings` and `new_savings` and assign it to `total_savings`. Use `type()` to print the resulting type of `total_savings`.\n",
    "\n",
    "- Calculate the sum of `intro` and `intro` and assign the result to `doubleintro`. Print out `doubleintro`. Did you expect this?"
   ]
  },
  {
   "cell_type": "code",
   "execution_count": null,
   "id": "98944138",
   "metadata": {},
   "outputs": [],
   "source": [
    "savings = 100\n",
    "new_savings = 40\n",
    "\n",
    "# Calculate total_savings using savings and new_savings\n",
    "____\n",
    "print(total_savings)\n",
    "\n",
    "# Print the type of total_savings\n",
    "print(____)\n",
    "\n",
    "intro = \"Hello! How are you?\"\n",
    "\n",
    "# Assign sum of intro and intro to doubleintro\n",
    "____\n",
    "\n",
    "# Print out doubleintro\n",
    "print(____)"
   ]
  },
  {
   "cell_type": "markdown",
   "id": "51779ae9",
   "metadata": {},
   "source": [
    "# Familiar functions\n",
    "\n",
    "Out of the box, Python offers a bunch of built-in functions to make your life as a data scientist easier. You already know two such functions: `print()` and `type()`. There are also functions like `str()`, `int()`, `bool()` and `float()` to switch between data types. These are built-in functions as well.\n",
    "\n",
    "Calling a function is easy. To get the type of `3.0` and store the output as a new variable, result, you can use the following:\n",
    "\n",
    "```\n",
    "result = type(3.0)\n",
    "```\n",
    "\n",
    "## Exercise \n",
    "- Use `print()` in combination with `type()` to print out the type of `var1`.\n",
    "- Use `len()` to get the length of the list `var1`. Wrap it in a `print()` call to directly print it out.\n",
    "- Use `int()` to convert `var2` to an integer. Store the output as `out2`."
   ]
  },
  {
   "cell_type": "code",
   "execution_count": null,
   "id": "b94c8c4e",
   "metadata": {},
   "outputs": [],
   "source": [
    "# Create variables var1 and var2\n",
    "var1 = [1, 2, 3, 4]\n",
    "var2 = True\n",
    "\n",
    "# Print out type of var1\n",
    "____\n",
    "\n",
    "# Print out length of var1\n",
    "____\n",
    "\n",
    "# Convert var2 to an integer: out2\n",
    "out2 = ____"
   ]
  },
  {
   "cell_type": "code",
   "execution_count": 3,
   "id": "868b4889",
   "metadata": {},
   "outputs": [
    {
     "name": "stdout",
     "output_type": "stream",
     "text": [
      "<class 'list'>\n",
      "4\n"
     ]
    }
   ],
   "source": [
    "# Create variables var1 and var2\n",
    "var1 = [1, 2, 3, 4]\n",
    "var2 = True\n",
    "\n",
    "# Print out type of var1\n",
    "print(type(var1))\n",
    "\n",
    "# Print out length of var1\n",
    "print(len(var1))\n",
    "\n",
    "# Convert var2 to an integer: out2\n",
    "out2 = int(var2)"
   ]
  },
  {
   "cell_type": "markdown",
   "id": "da5c5ef3",
   "metadata": {},
   "source": [
    "# Import package\n",
    "\n",
    "Let's say you wanted to calculate the circumference and area of a circle. Here's what those formulas look like:\n",
    "\n",
    "$$\n",
    "C = 2\\pi r\\\\\n",
    "A = \\pi r^2\n",
    "$$\n",
    "\n",
    "Rather than typing the number for `pi`, you can use the `math` package that contains the number.\n",
    "\n",
    "For reference, `**` is the symbol for exponentiation. For example `3**4` is $3^4$ and will give `81`.\n",
    "\n",
    "## Exercise\n",
    "\n",
    "- Import the `math` package.\n",
    "- Use `math.pi` to calculate the circumference of the circle and store it in `C`.\n",
    "- Use `math.pi` to calculate the area of the circle and store it in `A`."
   ]
  },
  {
   "cell_type": "code",
   "execution_count": null,
   "id": "3d81b9fd",
   "metadata": {},
   "outputs": [],
   "source": [
    "# Import the math package\n",
    "import ____\n",
    "\n",
    "# Calculate C\n",
    "C = 2 * 0.43 * ____\n",
    "\n",
    "# Calculate A\n",
    "A = ____ * 0.43 ** 2\n",
    "\n",
    "print(\"Circumference: \" + str(C))\n",
    "print(\"Area: \" + str(A))"
   ]
  },
  {
   "cell_type": "code",
   "execution_count": 5,
   "id": "7061ed2c",
   "metadata": {},
   "outputs": [
    {
     "name": "stdout",
     "output_type": "stream",
     "text": [
      "Circumference: 2.701769682087222\n",
      "Area: 0.5808804816487527\n"
     ]
    }
   ],
   "source": [
    "# Import the math package\n",
    "import math\n",
    "\n",
    "# Calculate C\n",
    "C = 2 * 0.43 * math.pi\n",
    "\n",
    "# Calculate A\n",
    "A = math.pi * 0.43 ** 2\n",
    "\n",
    "print(\"Circumference: \" + str(C))\n",
    "print(\"Area: \" + str(A))"
   ]
  },
  {
   "cell_type": "markdown",
   "id": "a85c4511",
   "metadata": {},
   "source": [
    "# Selective import\n",
    "General imports, like `import math`, make all functionality from the math package available to you. However, if you decide to only use a specific part of a package, you can always make your import more selective:\n",
    "\n",
    "```\n",
    "from math import pi\n",
    "```\n",
    "\n",
    "Try the same thing again, but this time only use `pi`.\n",
    "\n",
    "## Exercise\n",
    "- Perform a selective import from the `math` package where you only import the `pi` function.\n",
    "- Use `math.pi` to calculate the circumference of the circle and store it in `C`.\n",
    "- Use `math.pi` to calculate the area of the circle and store it in `A`."
   ]
  },
  {
   "cell_type": "code",
   "execution_count": null,
   "id": "6bd8519c",
   "metadata": {},
   "outputs": [],
   "source": [
    "# Import pi function of math package\n",
    "from math import ____\n",
    "\n",
    "# Calculate C\n",
    "C = 2 * 0.43 * ____\n",
    "\n",
    "# Calculate A\n",
    "A = ____ * 0.43 ** 2\n",
    "\n",
    "print(\"Circumference: \" + str(C))\n",
    "print(\"Area: \" + str(A))"
   ]
  },
  {
   "cell_type": "code",
   "execution_count": null,
   "id": "b77f90f7",
   "metadata": {},
   "outputs": [],
   "source": [
    "# Import pi function of math package\n",
    "from math import pi\n",
    "\n",
    "# Calculate C\n",
    "C = 2 * 0.43 * pi\n",
    "\n",
    "# Calculate A\n",
    "A = pi * 0.43 ** 2\n",
    "\n",
    "print(\"Circumference: \" + str(C))\n",
    "print(\"Area: \" + str(A))"
   ]
  },
  {
   "cell_type": "markdown",
   "id": "e62cdbe4",
   "metadata": {},
   "source": [
    "# Different ways of importing\n",
    "\n",
    "There are several ways to import packages and modules into Python. Depending on the import call, you'll have to use different Python code.\n",
    "\n",
    "Suppose you want to use the function `inv()`, which is in the `linalg` subpackage of the `scipy` package. You want to be able to use this function as follows:\n",
    "\n",
    "```\n",
    "my_inv([[1,2], [3,4]])\n",
    "```\n",
    "\n",
    "## Exercise\n",
    "\n",
    "Which import statement will you need in order to run the above code without an error?\n",
    "\n",
    "a. `import scipy`\n",
    "\n",
    "b. `import scipy.linalg`\n",
    "\n",
    "c. `from scipy.linalg import my_inv`\n",
    "\n",
    "d. `from scipy.linalg import inv as my_inv`"
   ]
  }
 ],
 "metadata": {
  "kernelspec": {
   "display_name": "Python 3 (ipykernel)",
   "language": "python",
   "name": "python3"
  },
  "language_info": {
   "codemirror_mode": {
    "name": "ipython",
    "version": 3
   },
   "file_extension": ".py",
   "mimetype": "text/x-python",
   "name": "python",
   "nbconvert_exporter": "python",
   "pygments_lexer": "ipython3",
   "version": "3.9.13"
  }
 },
 "nbformat": 4,
 "nbformat_minor": 5
}
