{
 "cells": [
  {
   "cell_type": "markdown",
   "id": "3fbf4fcc",
   "metadata": {},
   "source": [
    "# Which one is the response variable?\n",
    "\n",
    "Regression lets you predict the values of a response variable from known values of explanatory variables. Which variable you use as the response variable depends on the question you are trying to answer, but in many datasets, there will be an obvious choice for variables that would be interesting to predict. Over the next few exercises, you'll explore a Taiwan real estate dataset with four variables.\n",
    "\n",
    "|Variable\t|Meaning|\n",
    "|-----------|-----------------|\n",
    "|`dist_to_mrt_station_m`\t|Distance to nearest MRT metro station, in meters.|\n",
    "|`n_convenience`\t|No. of convenience stores in walking distance.|\n",
    "|`house_age_years`|\tThe age of the house, in years, in three groups.|\n",
    "|`price_twd_msq`\t|House price per unit area, in New Taiwan dollars per meter squared.|\n",
    "\n",
    "Print `taiwan_real_estate` in the console to view the dataset, and decide which variable would make a good response variable.\n",
    "\n",
    "a. `dist_to_mrt_station_m`\n",
    "\n",
    "b. `n_convenience`\n",
    "\n",
    "c. `house_age_years`\n",
    "\n",
    "d. `price_twd_msq`"
   ]
  },
  {
   "cell_type": "code",
   "execution_count": 2,
   "id": "39b9206a",
   "metadata": {},
   "outputs": [
    {
     "data": {
      "text/html": [
       "<div>\n",
       "<style scoped>\n",
       "    .dataframe tbody tr th:only-of-type {\n",
       "        vertical-align: middle;\n",
       "    }\n",
       "\n",
       "    .dataframe tbody tr th {\n",
       "        vertical-align: top;\n",
       "    }\n",
       "\n",
       "    .dataframe thead th {\n",
       "        text-align: right;\n",
       "    }\n",
       "</style>\n",
       "<table border=\"1\" class=\"dataframe\">\n",
       "  <thead>\n",
       "    <tr style=\"text-align: right;\">\n",
       "      <th></th>\n",
       "      <th>dist_to_mrt_m</th>\n",
       "      <th>n_convenience</th>\n",
       "      <th>house_age_years</th>\n",
       "      <th>price_twd_msq</th>\n",
       "    </tr>\n",
       "  </thead>\n",
       "  <tbody>\n",
       "    <tr>\n",
       "      <th>0</th>\n",
       "      <td>84.87882</td>\n",
       "      <td>10</td>\n",
       "      <td>30 to 45</td>\n",
       "      <td>11.467474</td>\n",
       "    </tr>\n",
       "    <tr>\n",
       "      <th>1</th>\n",
       "      <td>306.59470</td>\n",
       "      <td>9</td>\n",
       "      <td>15 to 30</td>\n",
       "      <td>12.768533</td>\n",
       "    </tr>\n",
       "    <tr>\n",
       "      <th>2</th>\n",
       "      <td>561.98450</td>\n",
       "      <td>5</td>\n",
       "      <td>0 to 15</td>\n",
       "      <td>14.311649</td>\n",
       "    </tr>\n",
       "    <tr>\n",
       "      <th>3</th>\n",
       "      <td>561.98450</td>\n",
       "      <td>5</td>\n",
       "      <td>0 to 15</td>\n",
       "      <td>16.580938</td>\n",
       "    </tr>\n",
       "    <tr>\n",
       "      <th>4</th>\n",
       "      <td>390.56840</td>\n",
       "      <td>5</td>\n",
       "      <td>0 to 15</td>\n",
       "      <td>13.040847</td>\n",
       "    </tr>\n",
       "    <tr>\n",
       "      <th>...</th>\n",
       "      <td>...</td>\n",
       "      <td>...</td>\n",
       "      <td>...</td>\n",
       "      <td>...</td>\n",
       "    </tr>\n",
       "    <tr>\n",
       "      <th>409</th>\n",
       "      <td>4082.01500</td>\n",
       "      <td>0</td>\n",
       "      <td>0 to 15</td>\n",
       "      <td>4.659607</td>\n",
       "    </tr>\n",
       "    <tr>\n",
       "      <th>410</th>\n",
       "      <td>90.45606</td>\n",
       "      <td>9</td>\n",
       "      <td>0 to 15</td>\n",
       "      <td>15.128593</td>\n",
       "    </tr>\n",
       "    <tr>\n",
       "      <th>411</th>\n",
       "      <td>390.96960</td>\n",
       "      <td>7</td>\n",
       "      <td>15 to 30</td>\n",
       "      <td>12.284418</td>\n",
       "    </tr>\n",
       "    <tr>\n",
       "      <th>412</th>\n",
       "      <td>104.81010</td>\n",
       "      <td>5</td>\n",
       "      <td>0 to 15</td>\n",
       "      <td>15.885023</td>\n",
       "    </tr>\n",
       "    <tr>\n",
       "      <th>413</th>\n",
       "      <td>90.45606</td>\n",
       "      <td>9</td>\n",
       "      <td>0 to 15</td>\n",
       "      <td>19.334342</td>\n",
       "    </tr>\n",
       "  </tbody>\n",
       "</table>\n",
       "<p>414 rows × 4 columns</p>\n",
       "</div>"
      ],
      "text/plain": [
       "     dist_to_mrt_m  n_convenience house_age_years  price_twd_msq\n",
       "0         84.87882             10        30 to 45      11.467474\n",
       "1        306.59470              9        15 to 30      12.768533\n",
       "2        561.98450              5         0 to 15      14.311649\n",
       "3        561.98450              5         0 to 15      16.580938\n",
       "4        390.56840              5         0 to 15      13.040847\n",
       "..             ...            ...             ...            ...\n",
       "409     4082.01500              0         0 to 15       4.659607\n",
       "410       90.45606              9         0 to 15      15.128593\n",
       "411      390.96960              7        15 to 30      12.284418\n",
       "412      104.81010              5         0 to 15      15.885023\n",
       "413       90.45606              9         0 to 15      19.334342\n",
       "\n",
       "[414 rows x 4 columns]"
      ]
     },
     "execution_count": 2,
     "metadata": {},
     "output_type": "execute_result"
    }
   ],
   "source": [
    "import pandas as pd\n",
    "\n",
    "data = pd.read_csv('taiwan_real_estate2.csv')"
   ]
  },
  {
   "cell_type": "markdown",
   "id": "f2967b77",
   "metadata": {},
   "source": [
    "# Visualizing two numeric variables\n",
    "Before you can run any AI models, it's usually a good idea to visualize your dataset. Here, you'll look at the relationship between house price per area and the number of nearby convenience stores using the Taiwan real estate dataset.\n",
    "\n",
    "One challenge in this dataset is that the number of convenience stores contains integer data, causing points to overlap. To solve this, you will make the points transparent.\n",
    "\n",
    "## Exercise\n",
    "\n",
    "1. Import the `seaborn` package, aliased as `sns`.\n",
    "\n",
    "2. Using `taiwan_real_estate`, draw a scatter plot of `\"price_twd_msq\"` (y-axis) versus `\"n_convenience\"` (x-axis) using the `scatterplot` function.\n",
    "\n",
    "3. Draw a trend line calculated using linear regression using the `regplot` function. "
   ]
  },
  {
   "cell_type": "code",
   "execution_count": null,
   "id": "458b666e",
   "metadata": {},
   "outputs": [],
   "source": [
    "# Import seaborn with alias sns\n",
    "____\n",
    "\n",
    "# Import matplotlib.pyplot with alias plt\n",
    "____\n",
    "\n",
    "# Draw the scatter plot\n",
    "sns.____(x=____, y=____, data=____)\n",
    "\n",
    "# Draw a trend line on the scatter plot of price_twd_msq vs. n_convenience\n",
    "sns.____(x=____, y=____, data=____)\n",
    "\n",
    "# Show the plot\n",
    "plt.____()"
   ]
  },
  {
   "cell_type": "code",
   "execution_count": 9,
   "id": "7b955778",
   "metadata": {},
   "outputs": [
    {
     "data": {
      "image/png": "[encoded data removed]",
      "text/plain": [
       "<Figure size 640x480 with 1 Axes>"
      ]
     },
     "metadata": {},
     "output_type": "display_data"
    }
   ],
   "source": [
    "# Import seaborn with alias sns\n",
    "import seaborn as sns\n",
    "\n",
    "# Import matplotlib.pyplot with alias plt\n",
    "import matplotlib.pyplot as plt\n",
    "\n",
    "# Draw the scatter plot\n",
    "sns.scatterplot(x='n_convenience', y='price_twd_msq', data=data)\n",
    "\n",
    "# Draw a trend line on the scatter plot of price_twd_msq vs. n_convenience\n",
    "sns.regplot(x='n_convenience', y='price_twd_msq', data=data)\n",
    "\n",
    "# Show the plot\n",
    "plt.show()"
   ]
  },
  {
   "cell_type": "markdown",
   "id": "76c784fe",
   "metadata": {},
   "source": [
    "# Estimate the intercept\n",
    "\n",
    "Linear regression models always fit a straight line to the data. Straight lines are defined by two properties: their intercept and their slope.\n",
    "\n",
    "Here, you can see a scatter plot of house price per area versus number of nearby convenience stores, using the Taiwan real estate dataset.\n",
    " \n",
    "## Exercise \n",
    "\n",
    "1. Estimate the intercept of the linear regression trend line.\n",
    "\n",
    "a. 0\n",
    "\n",
    "b. 8.22\n",
    "\n",
    "c. 16.21\n",
    "\n",
    "2. Estimate the slope of the linear regression trend line.\n",
    "\n",
    "a. 0.8\n",
    "\n",
    "b. 1\n",
    "\n",
    "c. 8.22"
   ]
  },
  {
   "cell_type": "markdown",
   "id": "23d835b1",
   "metadata": {},
   "source": [
    "# Linear regression with `ols()`\n",
    "\n",
    "While `sns.regplot()` can display a linear regression trend line, it doesn't give you access to the intercept and slope as variables, or allow you to work with the model results as variables. That means that sometimes you'll need to run a linear regression yourself.\n",
    "\n",
    "## Exercise \n",
    "\n",
    "- Import the `ols()` function from the `statsmodels.formula.api` package.\n",
    "- Run a linear regression with `price_twd_msq` as the response variable, `n_convenience` as the explanatory variable, and `taiwan_real_estate` as the dataset. Name it `mdl_price_vs_conv`.\n",
    "- Fit the model.\n",
    "- Print the parameters of the fitted model."
   ]
  },
  {
   "cell_type": "code",
   "execution_count": null,
   "id": "9be67224",
   "metadata": {},
   "outputs": [],
   "source": [
    "# Import the ols function\n",
    "from ____ import ____\n",
    "\n",
    "# Create the model object\n",
    "mdl_price_vs_conv = ____(\"____ ~ ____\", data=____)\n",
    "\n",
    "# Fit the model\n",
    "mdl_price_vs_conv = ____.____\n",
    "\n",
    "# Print the parameters of the fitted model\n",
    "print(____.____)"
   ]
  },
  {
   "cell_type": "code",
   "execution_count": 11,
   "id": "820ac033",
   "metadata": {},
   "outputs": [
    {
     "name": "stdout",
     "output_type": "stream",
     "text": [
      "Intercept        8.224237\n",
      "n_convenience    0.798080\n",
      "dtype: float64\n"
     ]
    }
   ],
   "source": [
    "# Import the ols function\n",
    "from statsmodels.formula.api import ols\n",
    "\n",
    "# Create the model object\n",
    "mdl_price_vs_conv = ols(\"price_twd_msq ~ n_convenience\", data=data)\n",
    "\n",
    "# Fit the model\n",
    "mdl_price_vs_conv = mdl_price_vs_conv.fit()\n",
    "\n",
    "# Print the parameters of the fitted model\n",
    "print(mdl_price_vs_conv.params)"
   ]
  },
  {
   "cell_type": "markdown",
   "id": "33f8fa7c",
   "metadata": {},
   "source": [
    "## Question\n",
    "\n",
    "1. The model had an `Intercept` coefficient of `8.2242`. What does this mean?\n",
    "\n",
    "- On average, houses had a price of `8.2242` TWD per square meter.\n",
    "\n",
    "- On average, a house with zero convenience stores nearby had a price of `8.2242` TWD per square meter.\n",
    "\n",
    "- The minimum house price was `8.2242` TWD per square meter.\n",
    "\n",
    "- The minimum house price with zero convenience stores nearby was `8.2242` TWD per square meter.\n",
    "\n",
    "- The intercept tells you nothing about house prices.\n",
    "\n",
    "2. The model had an `n_convenience` coefficient of `0.7981`. What does this mean?\n",
    "\n",
    "- If you increase the number of nearby convenience stores by one, then the expected increase in house price is `0.7981` TWD per square meter.\n",
    "\n",
    "- If you increase the house price by `0.7981` TWD per square meter, then the expected increase in the number of nearby convenience stores is one.\n",
    "\n",
    "- If you increase the number of nearby convenience stores by` 0.7981`, then the expected increase in house price is one TWD per square meter.\n",
    "\n",
    "- If you increase the house price by one TWD per square meter, then the expected increase in the number of nearby convenience stores is `0.7981`.\n",
    "\n",
    "- The n_convenience coefficient tells you nothing about house prices."
   ]
  },
  {
   "cell_type": "markdown",
   "id": "ef0ee68a",
   "metadata": {},
   "source": [
    "# Visualizing numeric vs. categorical\n",
    "\n",
    "If the explanatory variable is categorical, the scatter plot that you used before to visualize the data doesn't make sense. Instead, a good option is to draw a histogram for each category.\n",
    "\n",
    "The Taiwan real estate dataset has a categorical variable in the form of the age of each house. The ages have been split into 3 groups: 0 to 15 years, 15 to 30 years, and 30 to 45 years.\n",
    "\n",
    "## Exercise\n",
    "\n",
    "Using the `taiwan_real_estate` data, plot a histogram of `price_twd_msq` with `10` bins with the `displot` function. Split the plot by `house_age_years` to give 3 panels."
   ]
  },
  {
   "cell_type": "code",
   "execution_count": null,
   "id": "b758ffef",
   "metadata": {},
   "outputs": [],
   "source": [
    "# Histograms of price_twd_msq with 10 bins, split by the age of each house\n",
    "sns.____(data=____,\n",
    "         x=____,\n",
    "         col=____,\n",
    "         bins=____)\n",
    "\n",
    "# Show the plot\n",
    "____"
   ]
  },
  {
   "cell_type": "code",
   "execution_count": 15,
   "id": "30458394",
   "metadata": {},
   "outputs": [
    {
     "data": {
      "image/png": "[encoded data removed]",
      "text/plain": [
       "<Figure size 1500x500 with 3 Axes>"
      ]
     },
     "metadata": {},
     "output_type": "display_data"
    }
   ],
   "source": [
    "# Histograms of price_twd_msq with 10 bins, split by the age of each house\n",
    "sns.displot(data=data,\n",
    "         x='price_twd_msq',\n",
    "         col='house_age_years',\n",
    "         bins=10)\n",
    "\n",
    "# Show the plot\n",
    "plt.show()"
   ]
  },
  {
   "cell_type": "markdown",
   "id": "1a658aaf",
   "metadata": {},
   "source": [
    "# Calculating means by category\n",
    "\n",
    "A good way to explore categorical variables further is to calculate summary statistics for each category. For example, you can calculate the mean and median of your response variable, grouped by a categorical variable. As such, you can compare each category in more detail.\n",
    "\n",
    "Here, you'll look at grouped means for the house prices in the Taiwan real estate dataset. This will help you understand the output of a linear regression with a categorical variable.\n",
    "\n",
    "## Exercise\n",
    "- Using the `groupby` function, group `taiwan_real_estate` data by `house_age_years` and calculate the mean price (`price_twd_msq`) for each age group. Assign the result to `mean_price_by_age`.\n",
    "- Print the result and inspect the output."
   ]
  },
  {
   "cell_type": "code",
   "execution_count": null,
   "id": "534eb341",
   "metadata": {},
   "outputs": [],
   "source": [
    "# Calculate the mean of price_twd_msq, grouped by house age\n",
    "mean_price_by_age = ____.____(____)[____].____\n",
    "\n",
    "# Print the result\n",
    "print(____)"
   ]
  },
  {
   "cell_type": "code",
   "execution_count": 16,
   "id": "a487a30f",
   "metadata": {},
   "outputs": [
    {
     "name": "stdout",
     "output_type": "stream",
     "text": [
      "house_age_years\n",
      "0 to 15     12.637471\n",
      "15 to 30     9.876743\n",
      "30 to 45    11.393264\n",
      "Name: price_twd_msq, dtype: float64\n"
     ]
    }
   ],
   "source": [
    "# Calculate the mean of price_twd_msq, grouped by house age\n",
    "mean_price_by_age = data.groupby('house_age_years')['price_twd_msq'].mean()\n",
    "\n",
    "# Print the result\n",
    "print(mean_price_by_age)"
   ]
  },
  {
   "cell_type": "markdown",
   "id": "1e073382",
   "metadata": {},
   "source": [
    "# Linear regression with a categorical explanatory variable\n",
    "\n",
    "To run a linear regression model with categorical explanatory variables, you can use the same code as with numeric explanatory variables. The coefficients returned by the model are different, however. \n",
    "\n",
    "## Exercise \n",
    "- Run and fit a linear regression with `price_twd_msq` as the response variable, `house_age_years` as the explanatory variable. Assign the result to `mdl_price_vs_age`.\n",
    "- Print its parameters.\n",
    "- Update the model formula so that no intercept is included in the model. Assign to `mdl_price_vs_age0`.\n",
    "- Print its parameters."
   ]
  },
  {
   "cell_type": "code",
   "execution_count": null,
   "id": "84ab5f7b",
   "metadata": {},
   "outputs": [],
   "source": [
    "# Create the model, fit it\n",
    "mdl_price_vs_age = ____('____ ~ ____', data=____).____\n",
    "\n",
    "# Print the parameters of the fitted model\n",
    "print(____.____)\n",
    "\n",
    "# Create the model without the intercept, fit it\n",
    "mdl_price_vs_age0 = ____('____ ~ ____', data=____).____\n",
    "\n",
    "# Print the parameters of the updated fitted model\n",
    "print(____.____)"
   ]
  },
  {
   "cell_type": "code",
   "execution_count": 19,
   "id": "0e2d014c",
   "metadata": {},
   "outputs": [
    {
     "name": "stdout",
     "output_type": "stream",
     "text": [
      "Intercept                      12.637471\n",
      "house_age_years[T.15 to 30]    -2.760728\n",
      "house_age_years[T.30 to 45]    -1.244207\n",
      "dtype: float64\n",
      "house_age_years[0 to 15]     12.637471\n",
      "house_age_years[15 to 30]     9.876743\n",
      "house_age_years[30 to 45]    11.393264\n",
      "dtype: float64\n"
     ]
    }
   ],
   "source": [
    "# Create the model, fit it\n",
    "mdl_price_vs_age = ols('price_twd_msq ~ house_age_years', data=data).fit()\n",
    "\n",
    "# Print the parameters of the fitted model\n",
    "print(mdl_price_vs_age.params)\n",
    "\n",
    "# Create the model, fit it\n",
    "mdl_price_vs_age0 = ols('price_twd_msq ~ 0 + house_age_years', data=data).fit()\n",
    "\n",
    "# Print the parameters of the fitted model\n",
    "print(mdl_price_vs_age0.params)"
   ]
  },
  {
   "cell_type": "markdown",
   "id": "f896d846",
   "metadata": {},
   "source": [
    "# Predicting house prices\n",
    "\n",
    "Perhaps the most useful feature of statistical models like linear regression is that you can make predictions. That is, you specify values for each of the explanatory variables, feed them to the model, and get a prediction for the corresponding response variable. The code flow is as follows.\n",
    "\n",
    "```\n",
    "explanatory_data = pd.DataFrame({\"explanatory_var\": list_of_values})\n",
    "predictions = model.predict(explanatory_data)\n",
    "prediction_data = explanatory_data.assign(response_var=predictions)\n",
    "```\n",
    "Here, you'll make predictions for the house prices in the Taiwan real estate dataset.\n",
    "\n",
    "taiwan_real_estate is available. The fitted linear regression model of house price versus number of convenience stores is available as mdl_price_vs_conv. For future exercises, when a model is available, it will also be fitted.\n",
    "\n",
    "## Exercise \n",
    "- Import the `numpy` package using the alias `np`.\n",
    "- Create a `DataFrame` of explanatory data, where the number of convenience stores, `n_convenience`, takes the integer values from zero to ten.\n",
    "- Print explanatory_data.\n",
    "- Use the model `mdl_price_vs_conv` to make predictions from explanatory_data and store it as `price_twd_msq`.\n",
    "- Print the predictions.\n",
    "- Create a `DataFrame` of predictions named `prediction_data`. Start with `explanatory_data`, then add an extra column, `price_twd_msq`, containing the predictions you created in the previous step.\n"
   ]
  },
  {
   "cell_type": "code",
   "execution_count": null,
   "id": "43958ac2",
   "metadata": {},
   "outputs": [],
   "source": [
    "# Import numpy with alias np\n",
    "import numpy as np\n",
    "\n",
    "# Create the explanatory_data \n",
    "explanatory_data = pd.DataFrame({'____': np.arange(____)})\n",
    "\n",
    "# Print it\n",
    "____\n",
    "\n",
    "# Use mdl_price_vs_conv to predict with explanatory_data, call it price_twd_msq\n",
    "price_twd_msq = ____\n",
    "\n",
    "# Print it\n",
    "print(price_twd_msq)\n",
    "\n",
    "# Create prediction_data\n",
    "prediction_data = ____.assign(____ = ____)\n",
    "\n",
    "# Print the result\n",
    "print(prediction_data)"
   ]
  },
  {
   "cell_type": "code",
   "execution_count": 25,
   "id": "c4aa1ec0",
   "metadata": {},
   "outputs": [
    {
     "name": "stdout",
     "output_type": "stream",
     "text": [
      "    n_convenience\n",
      "0               0\n",
      "1               1\n",
      "2               2\n",
      "3               3\n",
      "4               4\n",
      "5               5\n",
      "6               6\n",
      "7               7\n",
      "8               8\n",
      "9               9\n",
      "10             10\n",
      "0      8.224237\n",
      "1      9.022317\n",
      "2      9.820397\n",
      "3     10.618477\n",
      "4     11.416556\n",
      "5     12.214636\n",
      "6     13.012716\n",
      "7     13.810795\n",
      "8     14.608875\n",
      "9     15.406955\n",
      "10    16.205035\n",
      "dtype: float64\n",
      "    n_convenience  price_twd_msq\n",
      "0               0       8.224237\n",
      "1               1       9.022317\n",
      "2               2       9.820397\n",
      "3               3      10.618477\n",
      "4               4      11.416556\n",
      "5               5      12.214636\n",
      "6               6      13.012716\n",
      "7               7      13.810795\n",
      "8               8      14.608875\n",
      "9               9      15.406955\n",
      "10             10      16.205035\n"
     ]
    }
   ],
   "source": [
    "# Import numpy with alias np\n",
    "import numpy as np\n",
    "\n",
    "# Create the model object and Fit the model\n",
    "mdl_price_vs_conv = ols(\"price_twd_msq ~ n_convenience\", data=data)\n",
    "mdl_price_vs_conv = mdl_price_vs_conv.fit()\n",
    "\n",
    "# Create the explanatory_data \n",
    "explanatory_data = pd.DataFrame({'n_convenience': np.arange(0,11)})\n",
    "\n",
    "# Print it\n",
    "print(explanatory_data)\n",
    "\n",
    "# Use mdl_price_vs_conv to predict with explanatory_data, call it price_twd_msq\n",
    "price_twd_msq = mdl_price_vs_conv.predict(explanatory_data)\n",
    "\n",
    "# Print it\n",
    "print(price_twd_msq)\n",
    "\n",
    "# Create prediction_data\n",
    "prediction_data = explanatory_data.assign(price_twd_msq=price_twd_msq)\n",
    "\n",
    "# Print the result\n",
    "print(prediction_data)"
   ]
  },
  {
   "cell_type": "markdown",
   "id": "18912292",
   "metadata": {},
   "source": [
    "# Visualizing predictions\n",
    "The prediction DataFrame you created contains a column of explanatory variable values and a column of response variable values. That means you can plot it on the same scatter plot of response versus explanatory data values.\n",
    "\n",
    "## Exercise \n",
    "- Create a new figure to plot multiple layers.\n",
    "- Extend the plotting code to add points for the predictions in `prediction_data`. Color the points red.\n",
    "- Display the layered plot."
   ]
  },
  {
   "cell_type": "code",
   "execution_count": null,
   "id": "99ed0b7a",
   "metadata": {},
   "outputs": [],
   "source": [
    "# Create a new figure, fig\n",
    "fig = plt.figure()\n",
    "\n",
    "sns.regplot(x=\"n_convenience\",\n",
    "            y=\"price_twd_msq\",\n",
    "            data=data,\n",
    "            ci=None)\n",
    "# Add a scatter plot layer to the regplot\n",
    "sns.scatterplot(x=\"____\",\n",
    "                y=\"____\",\n",
    "                data=____,\n",
    "                color=\"____\",\n",
    "                marker='s')\n",
    "\n",
    "# Show the layered plot\n",
    "plt.____()"
   ]
  },
  {
   "cell_type": "code",
   "execution_count": 27,
   "id": "94f5e238",
   "metadata": {},
   "outputs": [
    {
     "data": {
      "image/png": "[encoded data removed]",
      "text/plain": [
       "<Figure size 640x480 with 1 Axes>"
      ]
     },
     "metadata": {},
     "output_type": "display_data"
    }
   ],
   "source": [
    "# Create a new figure, fig\n",
    "fig = plt.figure()\n",
    "\n",
    "sns.regplot(x=\"n_convenience\",\n",
    "            y=\"price_twd_msq\",\n",
    "            data=data,\n",
    "            ci=None)\n",
    "# Add a scatter plot layer to the regplot\n",
    "sns.scatterplot(x=\"n_convenience\",\n",
    "                y=\"price_twd_msq\",\n",
    "                data=prediction_data,\n",
    "                color=\"red\",\n",
    "                marker='s')\n",
    "\n",
    "# Show the layered plot\n",
    "plt.show()"
   ]
  }
 ],
 "metadata": {
  "kernelspec": {
   "display_name": "Python 3 (ipykernel)",
   "language": "python",
   "name": "python3"
  },
  "language_info": {
   "codemirror_mode": {
    "name": "ipython",
    "version": 3
   },
   "file_extension": ".py",
   "mimetype": "text/x-python",
   "name": "python",
   "nbconvert_exporter": "python",
   "pygments_lexer": "ipython3",
   "version": "3.9.13"
  }
 },
 "nbformat": 4,
 "nbformat_minor": 5
}
